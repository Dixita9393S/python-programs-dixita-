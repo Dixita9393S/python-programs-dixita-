{
 "cells": [
  {
   "cell_type": "markdown",
   "metadata": {},
   "source": [
    "# Day 10(27-06-19)\n",
    "\n",
    "# Example 1\n",
    "Create a file and store data in it."
   ]
  },
  {
   "cell_type": "code",
   "execution_count": 2,
   "metadata": {},
   "outputs": [
    {
     "name": "stdout",
     "output_type": "stream",
     "text": [
      "File is created successfully and data is stored in it\n"
     ]
    }
   ],
   "source": [
    "# function to create a file and write some data\n",
    "def createfile(filename):\n",
    "    f=open(filename,\"w\")\n",
    "    for i in range(10):\n",
    "        f.write(\"This is %d line\\n\"%i)\n",
    "    print(\"File is created successfully and data is stored in it\")\n",
    "    f.close()\n",
    "    return\n",
    "createfile(\"file1.txt\")"
   ]
  },
  {
   "cell_type": "markdown",
   "metadata": {},
   "source": [
    "# Example 2\n",
    "Read a file."
   ]
  },
  {
   "cell_type": "code",
   "execution_count": 5,
   "metadata": {},
   "outputs": [
    {
     "name": "stdout",
     "output_type": "stream",
     "text": [
      "This is 0 line\n",
      "This is 1 line\n",
      "This is 2 line\n",
      "This is 3 line\n",
      "This is 4 line\n",
      "This is 5 line\n",
      "This is 6 line\n",
      "This is 7 line\n",
      "This is 8 line\n",
      "This is 9 line\n",
      "\n"
     ]
    }
   ],
   "source": [
    "# function for reading the file data\n",
    "def readfile(filename):\n",
    "    f=open(filename,\"r\")\n",
    "    if f.mode==\"r\":\n",
    "        x=f.read()\n",
    "        print(x)\n",
    "    f.close()\n",
    "    return\n",
    "readfile(\"file1.txt\")\n",
    "        "
   ]
  },
  {
   "cell_type": "markdown",
   "metadata": {},
   "source": [
    "# Example 3:\n"
   ]
  },
  {
   "cell_type": "code",
   "execution_count": 7,
   "metadata": {},
   "outputs": [
    {
     "name": "stdout",
     "output_type": "stream",
     "text": [
      "File is created successfully and data is stored in it\n"
     ]
    }
   ],
   "source": [
    "# function to create a file and write some data\n",
    "def createfile(filename):\n",
    "    f=open(filename,\"w\")\n",
    "    for i in range(10):\n",
    "        f.write(\"test %d line\\n\"%i)\n",
    "    print(\"File is created successfully and data is stored in it\")\n",
    "    f.close()\n",
    "    return\n",
    "createfile(\"file1.txt\")"
   ]
  },
  {
   "cell_type": "code",
   "execution_count": 19,
   "metadata": {},
   "outputs": [],
   "source": [
    "# data to append\n",
    "# function to append the data to existing file\n",
    "def appenddata(filename):\n",
    "    f=open(filename,\"a\")\n",
    "    f.write(\"new line 1\\n\")\n",
    "    f.write(\"new line 2\\n\")\n",
    "    f.close()\n",
    "    return\n",
    "appenddata(\"file1.txt\")"
   ]
  },
  {
   "cell_type": "code",
   "execution_count": 23,
   "metadata": {},
   "outputs": [
    {
     "name": "stdout",
     "output_type": "stream",
     "text": [
      " Volume in drive C has no label.\n",
      " Volume Serial Number is BC66-BD99\n",
      "\n",
      " Directory of C:\\Users\\mplab\n",
      "\n",
      "27-06-2019  10:53    <DIR>          .\n",
      "27-06-2019  10:53    <DIR>          ..\n",
      "17-06-2019  13:14    <DIR>          .anaconda\n",
      "27-06-2019  10:23               380 .bash_history\n",
      "21-06-2019  17:16    <DIR>          .conda\n",
      "21-06-2019  14:30                43 .condarc\n",
      "27-06-2019  10:26    <DIR>          .ipynb_checkpoints\n",
      "17-06-2019  13:42    <DIR>          .ipython\n",
      "21-06-2019  14:30    <DIR>          .jupyter\n",
      "19-06-2019  14:59                69 .minttyrc\n",
      "21-06-2019  16:54             3,313 21-06-2019.ipynb\n",
      "24-06-2019  09:11             8,385 22-06-2019.ipynb\n",
      "24-06-2019  12:00             4,150 24-06-2019(dixita).ipynb\n",
      "25-06-2019  11:53             6,336 25-06-2019(dixita).ipynb\n",
      "27-06-2019  10:11            18,419 26th june.ipynb\n",
      "26-06-2019  11:57            11,491 26th june-Copy1.ipynb\n",
      "27-06-2019  10:53             6,208 27-06-2019.ipynb\n",
      "17-06-2019  13:09    <DIR>          Anaconda3\n",
      "17-06-2019  10:30    <DIR>          Contacts\n",
      "27-06-2019  09:58    <DIR>          Desktop\n",
      "17-06-2019  13:09    <DIR>          Documents\n",
      "27-06-2019  09:51    <DIR>          Downloads\n",
      "17-06-2019  10:30    <DIR>          Favorites\n",
      "27-06-2019  10:52               278 file1.txt\n",
      "17-06-2019  10:30    <DIR>          Links\n",
      "17-06-2019  10:30    <DIR>          Music\n",
      "17-06-2019  10:30    <DIR>          Pictures\n",
      "21-06-2019  16:57             3,313 python (dixita).ipynb\n",
      "17-06-2019  10:30    <DIR>          Saved Games\n",
      "17-06-2019  10:30    <DIR>          Searches\n",
      "25-06-2019  15:42             4,146 Untitled.ipynb\n",
      "17-06-2019  10:30    <DIR>          Videos\n",
      "              13 File(s)         66,531 bytes\n",
      "              19 Dir(s)  190,015,578,112 bytes free\n"
     ]
    }
   ],
   "source": [
    "ls"
   ]
  },
  {
   "cell_type": "code",
   "execution_count": 27,
   "metadata": {},
   "outputs": [
    {
     "name": "stdout",
     "output_type": "stream",
     "text": [
      "0\n"
     ]
    }
   ],
   "source": [
    "def dataAnalysisWordCount(filename,word):\n",
    "    f=open(filename,\"r\")\n",
    "    if f.mode==\"r\":\n",
    "        x=f.read()\n",
    "        list=x.split()\n",
    "    cnt=list.count(word)\n",
    "    return cnt\n",
    "print(dataAnalysisWordCount(\"file1.txt\",\"rest\"))"
   ]
  },
  {
   "cell_type": "code",
   "execution_count": 31,
   "metadata": {},
   "outputs": [
    {
     "name": "stdout",
     "output_type": "stream",
     "text": [
      "259\n"
     ]
    }
   ],
   "source": [
    "def countchar(filename):\n",
    "    f=open(filename,\"r\")\n",
    "    if f.mode==\"r\":\n",
    "        x=f.read()\n",
    "        lst=list(x)\n",
    "    return len(lst)\n",
    "print(countchar(\"file1.txt\"))"
   ]
  },
  {
   "cell_type": "code",
   "execution_count": 35,
   "metadata": {},
   "outputs": [
    {
     "data": {
      "text/plain": [
       "0"
      ]
     },
     "execution_count": 35,
     "metadata": {},
     "output_type": "execute_result"
    }
   ],
   "source": [
    "#function to count the upper case character from the given file\n",
    "def uppercasecount(filename):\n",
    "    cntupper=0\n",
    "    f=open(filename,\"r\")\n",
    "    if f.mode==\"r\":\n",
    "        x=f.read()\n",
    "        lst=list(x)\n",
    "    for i in lst:\n",
    "        if i.isupper():\n",
    "            cntupper+=1\n",
    "    return cntupper\n",
    "uppercasecount(\"file1.txt\")"
   ]
  },
  {
   "cell_type": "code",
   "execution_count": 42,
   "metadata": {},
   "outputs": [
    {
     "data": {
      "text/plain": [
       "20"
      ]
     },
     "execution_count": 42,
     "metadata": {},
     "output_type": "execute_result"
    }
   ],
   "source": [
    "def countlines(filename):\n",
    "    f=open(filename,\"r\")\n",
    "    if f.mode==\"r\":\n",
    "        x=f.read()\n",
    "        lst=x.split(\"\\n\")\n",
    "    return len(lst)\n",
    "countlines(\"file1.txt\")"
   ]
  },
  {
   "cell_type": "markdown",
   "metadata": {},
   "source": [
    "# Regular expressions\n",
    "1. Pattern Matching.\n",
    "2. Symbol Notation of a pattern\n",
    "    - Pattern(RE) represents the set of the values that are given in pattern.\n",
    "3. [0-9] --> Any digit.\n",
    "4. [a-z] --> Any lower case characters.\n",
    "5. [2468] --> All single digit multiples of 2.\n",
    "6. [A-Z] --> Any upper case characters.\n",
    "7. ^[0-9]{1}$ --> Only single digit number.\n",
    "    - ^ symbol is used for start of regular expressions.\n",
    "    \n",
    "    - $ symbol is used to end the regular expression.\n",
    "    \n",
    "8. ^[0-9]{3}$ --> Regular expression will accept only 3 digit number.\n",
    "\n",
    "9. ^[a-z]{5}$ --> It only accepts 5 character string that too lower case characters.\n",
    "\n",
    "10. ^[a-zA-z]{6}$ --> A string can be of upper/lower case characters and length of 6.\n",
    "\n",
    "11. ^[a-zA-z]{6-15}$ --> A string min of 6 characters and max of 15 characters(upper case and lower case).\n",
    "\n",
    "12. ^[a-zA-z0-9]{6-15}$ --> Upper, lower and Digits.\n",
    "\n",
    "13. ^[6-9][0-9]{9} --> RE for indian mobile number.\n",
    "\n",
    "14. [+][9][1][6-9][0-9]{9}$ --> RE for indian mobile number.\n",
    "\n",
    "15. ^[0][6-9][0-9]{9}$ --> RE for indian mobile number.\n",
    "\n",
    "EmailID Validation: Username@DomainName.extension\n",
    "\n",
    "16. username:\n",
    "            - Length will be : [6-15]\n",
    "            - no special chars apart from _\n",
    "            - should not begin and end with _\n",
    "            - Character set : all digits and lower case alphabets\n",
    "\n",
    "17. domain name:\n",
    "            - length of domain : [3,18]\n",
    "            - no special characters\n",
    "            - character set : Lower case characters\n",
    "            \n",
    "Regular expression : "
   ]
  },
  {
   "cell_type": "code",
   "execution_count": 43,
   "metadata": {},
   "outputs": [],
   "source": [
    "# regular expression for indian mobile number\n",
    "# validation for EmailID Username@DomainName.extension\n",
    "\n",
    "# 987654321 -- First digit [6-9][0-9]\n",
    "#09876543210 -- First digit zero second digit[6-9] last 9 digits[0-9]\n",
    "#+919876543210 -- First + sign, second digit 9, third digit 1,\n",
    "                  # Fourth digit [6-9] rest of 9 digit [0-9]"
   ]
  },
  {
   "cell_type": "code",
   "execution_count": 47,
   "metadata": {},
   "outputs": [
    {
     "name": "stdout",
     "output_type": "stream",
     "text": [
      "True\n",
      "False\n"
     ]
    }
   ],
   "source": [
    "import re\n",
    "def phonenumbervalidate(phone):\n",
    "    pattern='^[6-9][0-9]{9}$'\n",
    "    phone=str(phone)\n",
    "    if re.match(pattern,phone):\n",
    "        return True\n",
    "    return False\n",
    "print(phonenumbervalidate(9876543210))\n",
    "print(phonenumbervalidate(986589))"
   ]
  },
  {
   "cell_type": "code",
   "execution_count": 54,
   "metadata": {},
   "outputs": [
    {
     "name": "stdout",
     "output_type": "stream",
     "text": [
      "True\n",
      "False\n",
      "True\n"
     ]
    }
   ],
   "source": [
    "import re\n",
    "def phonenumbervalidate(phone):\n",
    "    pattern='^[6-9][0-9]{9}$|^[0][6-9][0-9]{9}$|^[+][9][1][6-9][0-9]{9}$'\n",
    "    phone=str(phone)\n",
    "    if re.match(pattern,phone):\n",
    "        return True\n",
    "    return False\n",
    "print(phonenumbervalidate(\"9966338855\"))\n",
    "print(phonenumbervalidate(\"99668855\"))\n",
    "print(phonenumbervalidate(\"+919254783014\"))"
   ]
  },
  {
   "cell_type": "code",
   "execution_count": 56,
   "metadata": {},
   "outputs": [],
   "source": [
    "# RE -- Validation of roll number.\n",
    "### 152U1A0501"
   ]
  },
  {
   "cell_type": "code",
   "execution_count": 62,
   "metadata": {},
   "outputs": [
    {
     "name": "stdout",
     "output_type": "stream",
     "text": [
      "True\n",
      "False\n"
     ]
    }
   ],
   "source": [
    "import re\n",
    "def validaterollnumber(number):\n",
    "    number=str(number)\n",
    "    pattern=\"^[1][5][2][U][1][A][0][1-9][0-6][0-9]$\"\n",
    "    if re.match(pattern,number):\n",
    "        return True\n",
    "    return False\n",
    "print(validaterollnumber(\"152U1A0555\"))\n",
    "print(validaterollnumber(\"152U1A0485\"))"
   ]
  },
  {
   "cell_type": "code",
   "execution_count": 64,
   "metadata": {},
   "outputs": [
    {
     "name": "stdout",
     "output_type": "stream",
     "text": [
      "True\n",
      "False\n"
     ]
    }
   ],
   "source": [
    "import re\n",
    "def validateEmailID(email):\n",
    "    pattern=\"^[0-9a-z][0-9a-z_.]{4,13}[0-9a-z][@][a-z0-9]{3,18}[.][a-z]{2,4}$\"\n",
    "    if re.match(pattern,email):\n",
    "        return True\n",
    "    return False\n",
    "print(validateEmailID(\"dixitasarma2@gmail.com\"))\n",
    "print(validateEmailID(\"$dixitasarma2@gmail,com\"))\n",
    "    "
   ]
  },
  {
   "cell_type": "code",
   "execution_count": 65,
   "metadata": {},
   "outputs": [
    {
     "name": "stdout",
     "output_type": "stream",
     "text": [
      "True\n",
      "False\n"
     ]
    }
   ],
   "source": [
    "import re\n",
    "def validatepassword(s):\n",
    "    pattern=\"^[a-zA-Z0-9!@#$]{6,15}$\"\n",
    "    if re.match(pattern,s):\n",
    "        return True\n",
    "    return False\n",
    "print(validatepassword(\"Dixitasarma2#M\"))\n",
    "print(validatepassword(\"Dixitasarma2#M111111111222222\"))"
   ]
  },
  {
   "cell_type": "code",
   "execution_count": null,
   "metadata": {},
   "outputs": [],
   "source": []
  },
  {
   "cell_type": "code",
   "execution_count": null,
   "metadata": {},
   "outputs": [],
   "source": []
  }
 ],
 "metadata": {
  "kernelspec": {
   "display_name": "Python 3",
   "language": "python",
   "name": "python3"
  },
  "language_info": {
   "codemirror_mode": {
    "name": "ipython",
    "version": 3
   },
   "file_extension": ".py",
   "mimetype": "text/x-python",
   "name": "python",
   "nbconvert_exporter": "python",
   "pygments_lexer": "ipython3",
   "version": "3.7.3"
  }
 },
 "nbformat": 4,
 "nbformat_minor": 2
}
