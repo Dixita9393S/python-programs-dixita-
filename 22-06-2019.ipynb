{
 "cells": [
  {
   "cell_type": "markdown",
   "metadata": {},
   "source": [
    "# Skill Enhancement Program.\n",
    "\n",
    "## Date : 22-06-2019"
   ]
  },
  {
   "cell_type": "markdown",
   "metadata": {},
   "source": [
    "## Example 1:"
   ]
  },
  {
   "cell_type": "code",
   "execution_count": 1,
   "metadata": {},
   "outputs": [
    {
     "name": "stdout",
     "output_type": "stream",
     "text": [
      "the number is less than 15\n"
     ]
    }
   ],
   "source": [
    "x=10;\n",
    "if(x<15):\n",
    "    print(\"the number is less than 15\")"
   ]
  },
  {
   "cell_type": "code",
   "execution_count": 2,
   "metadata": {},
   "outputs": [
    {
     "name": "stdout",
     "output_type": "stream",
     "text": [
      "hello good afternoon\n"
     ]
    }
   ],
   "source": [
    "x=10;\n",
    "if(x>15):\n",
    "    print(\"hello good morning\")\n",
    "else:\n",
    "    print(\"hello good afternoon\")"
   ]
  },
  {
   "cell_type": "markdown",
   "metadata": {},
   "source": [
    "## Example 2 :\n",
    "Need to two numbers as input if both the numbers are same then output must be square a first number, if not output must be multiplication of both the numbers."
   ]
  },
  {
   "cell_type": "code",
   "execution_count": 3,
   "metadata": {},
   "outputs": [
    {
     "name": "stdout",
     "output_type": "stream",
     "text": [
      "125\n"
     ]
    }
   ],
   "source": [
    "x=25;\n",
    "y=5;\n",
    "if(x==y):\n",
    "    print(x*x)\n",
    "else:\n",
    "    print(x*y)"
   ]
  },
  {
   "cell_type": "markdown",
   "metadata": {},
   "source": [
    "## Example 3:\n",
    "Take a number as input and check whether it is positive or negitive number."
   ]
  },
  {
   "cell_type": "code",
   "execution_count": 4,
   "metadata": {},
   "outputs": [
    {
     "name": "stdout",
     "output_type": "stream",
     "text": [
      "it is a negative number\n"
     ]
    }
   ],
   "source": [
    "x=-10\n",
    "if(x<0):\n",
    "    print(\"it is a negative number\")\n",
    "elif(x>0):\n",
    "    print(\"it is a positive number\")\n",
    "elif(x==0):\n",
    "    print(\"it is zero\")"
   ]
  },
  {
   "cell_type": "markdown",
   "metadata": {},
   "source": [
    "## Example 4:\n",
    "Syntax - While condition: Loop statements increment/decrement.\n"
   ]
  },
  {
   "cell_type": "code",
   "execution_count": 5,
   "metadata": {},
   "outputs": [
    {
     "name": "stdout",
     "output_type": "stream",
     "text": [
      "1\n",
      "2\n",
      "3\n",
      "4\n",
      "5\n",
      "6\n",
      "7\n",
      "8\n",
      "9\n",
      "10\n"
     ]
    }
   ],
   "source": [
    "n=1\n",
    "while(n<=10):\n",
    "    print(n)\n",
    "    n=n+1"
   ]
  },
  {
   "cell_type": "markdown",
   "metadata": {},
   "source": [
    "## Example 5:\n",
    "Print the numbers from 10 to 1."
   ]
  },
  {
   "cell_type": "code",
   "execution_count": 6,
   "metadata": {},
   "outputs": [
    {
     "name": "stdout",
     "output_type": "stream",
     "text": [
      "10\n",
      "9\n",
      "8\n",
      "7\n",
      "6\n",
      "5\n",
      "4\n",
      "3\n",
      "2\n",
      "1\n"
     ]
    }
   ],
   "source": [
    "x=10\n",
    "while(x>=1):\n",
    "    print(x)\n",
    "    x=x-1"
   ]
  },
  {
   "cell_type": "markdown",
   "metadata": {},
   "source": [
    "## Example 6:\n",
    "Print numbers from -22 to -45."
   ]
  },
  {
   "cell_type": "code",
   "execution_count": 7,
   "metadata": {},
   "outputs": [
    {
     "name": "stdout",
     "output_type": "stream",
     "text": [
      "-22\n",
      "-23\n",
      "-24\n",
      "-25\n",
      "-26\n",
      "-27\n",
      "-28\n",
      "-29\n",
      "-30\n",
      "-31\n",
      "-32\n",
      "-33\n",
      "-34\n",
      "-35\n",
      "-36\n",
      "-37\n",
      "-38\n",
      "-39\n",
      "-40\n",
      "-41\n",
      "-42\n",
      "-43\n",
      "-44\n",
      "-45\n"
     ]
    }
   ],
   "source": [
    "x=-22\n",
    "while(x>=-45):\n",
    "    print(x)\n",
    "    x=x-1"
   ]
  },
  {
   "cell_type": "markdown",
   "metadata": {},
   "source": [
    "## Example 7:\n",
    "Print sum of even numbers between 1 to 100."
   ]
  },
  {
   "cell_type": "code",
   "execution_count": 4,
   "metadata": {},
   "outputs": [
    {
     "name": "stdout",
     "output_type": "stream",
     "text": [
      "enter lower limit1\n",
      "enter upper limit100\n",
      "2450\n"
     ]
    }
   ],
   "source": [
    "x=int(input(\"enter lower limit\"))\n",
    "y=int(input(\"enter upper limit\"))\n",
    "sum=0\n",
    "while(x!=y):\n",
    "    if(x%2==0):\n",
    "        sum=sum+x\n",
    "    x=x+1\n",
    "print(sum)"
   ]
  },
  {
   "cell_type": "markdown",
   "metadata": {},
   "source": [
    "## Example 8:\n",
    "\n",
    "### Input:\n",
    "A number.\n",
    "### Output:\n",
    "you need to add the sum of even numbers in a given number.\n",
    "### Test cases:\n",
    "145 --- 4\n",
    "\n",
    "1889 --- 16\n",
    "\n",
    "1951 --- 0\n",
    "\n",
    "1235 --- 2\n"
   ]
  },
  {
   "cell_type": "code",
   "execution_count": 3,
   "metadata": {},
   "outputs": [
    {
     "name": "stdout",
     "output_type": "stream",
     "text": [
      "enter a number1889\n",
      "16\n"
     ]
    }
   ],
   "source": [
    "x=int(input(\"enter a number\"))\n",
    "sum=0\n",
    "while(x!=0):\n",
    "    n=x%10\n",
    "    if(n%2==0):\n",
    "        sum=sum+n\n",
    "    x=x//10\n",
    "print(sum)"
   ]
  },
  {
   "cell_type": "markdown",
   "metadata": {},
   "source": [
    "## Example 9:\n",
    "### Input:\n",
    "A number.\n",
    "\n",
    "### Output:\n",
    "respective name to digit.\n",
    "\n",
    "### Test cases:\n",
    "145 --- five four one\n",
    "\n",
    "1889 ---  nine eight eight one\n",
    "\n",
    "1951 --- one five nine one\n",
    "\n",
    "1235 --- five three two one"
   ]
  },
  {
   "cell_type": "code",
   "execution_count": 5,
   "metadata": {},
   "outputs": [
    {
     "name": "stdout",
     "output_type": "stream",
     "text": [
      "enter a number12\n",
      "Two\n",
      "One\n"
     ]
    }
   ],
   "source": [
    "x=int(input(\"enter a number\"))\n",
    "while(x!=0):\n",
    "    r=x%10\n",
    "    x=x//10\n",
    "    if(r==0):\n",
    "        print(\"Zero\")\n",
    "    elif(r==1):\n",
    "        print(\"One\")\n",
    "    elif(r==2):\n",
    "        print(\"Two\")\n",
    "    elif(r==3):\n",
    "        print(\"Three\")\n",
    "    elif(r==4):\n",
    "        print(\"Four\")\n",
    "    elif(r==5):\n",
    "        print(\"Five\")\n",
    "    elif(r==6):\n",
    "        print(\"Six\")\n",
    "    elif(r==7):\n",
    "        print(\"Seven\")\n",
    "    elif(r==8):\n",
    "        print(\"Eight\")\n",
    "    elif(r==9):\n",
    "        print(\"Nine\")\n",
    "    "
   ]
  },
  {
   "cell_type": "markdown",
   "metadata": {},
   "source": [
    "## Example 10:\n",
    "## Input:\n",
    "Three numbers.\n",
    "\n",
    "## Output:\n",
    "How many times the digit is repeated between 2nd and 3rd number.\n",
    "\n",
    "## Test Cases:\n",
    "6,60,65 --- 6\n",
    "\n",
    "7,70,88 --- 12\n",
    "\n",
    "2,120,220 --- 40\n"
   ]
  },
  {
   "cell_type": "code",
   "execution_count": 2,
   "metadata": {},
   "outputs": [
    {
     "name": "stdout",
     "output_type": "stream",
     "text": [
      "enter 1st number6\n",
      "enter 2nd number60\n",
      "enter 3rd number65\n",
      "5\n"
     ]
    }
   ],
   "source": [
    "x=int(input(\"enter 1st number\"))\n",
    "y=int(input(\"enter 2nd number\"))\n",
    "z=int(input(\"enter 3rd number\"))\n",
    "k=y\n",
    "count=0\n",
    "while(k<z):\n",
    "    while(y!=0):\n",
    "        r=y%10\n",
    "        if(x==r):\n",
    "            count=count+1\n",
    "        y=y//10\n",
    "    k=k+1\n",
    "    y=k\n",
    "print(count)\n"
   ]
  }
 ],
 "metadata": {
  "kernelspec": {
   "display_name": "Python 3",
   "language": "python",
   "name": "python3"
  },
  "language_info": {
   "codemirror_mode": {
    "name": "ipython",
    "version": 3
   },
   "file_extension": ".py",
   "mimetype": "text/x-python",
   "name": "python",
   "nbconvert_exporter": "python",
   "pygments_lexer": "ipython3",
   "version": "3.7.3"
  }
 },
 "nbformat": 4,
 "nbformat_minor": 2
}
